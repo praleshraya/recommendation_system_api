{
 "cells": [
  {
   "cell_type": "code",
   "execution_count": 2,
   "metadata": {},
   "outputs": [],
   "source": [
    "import pandas as pd"
   ]
  },
  {
   "cell_type": "markdown",
   "metadata": {},
   "source": [
    "## Read movies data and store in movies table in database"
   ]
  },
  {
   "cell_type": "code",
   "execution_count": null,
   "metadata": {},
   "outputs": [],
   "source": [
    "df = pd.read_json(\"/home/sanustha/Public/recommender-system/api/data/genome_2021/movie_dataset_public_final/raw/metadata.json\", lines=True)"
   ]
  },
  {
   "cell_type": "code",
   "execution_count": 27,
   "metadata": {},
   "outputs": [
    {
     "data": {
      "text/plain": [
       "Index(['title', 'directedBy', 'starring', 'dateAdded', 'avgRating', 'imdbId',\n",
       "       'item_id'],\n",
       "      dtype='object')"
      ]
     },
     "execution_count": 27,
     "metadata": {},
     "output_type": "execute_result"
    }
   ],
   "source": [
    "df.columns"
   ]
  },
  {
   "cell_type": "code",
   "execution_count": 19,
   "metadata": {},
   "outputs": [
    {
     "data": {
      "text/plain": [
       "84661"
      ]
     },
     "execution_count": 19,
     "metadata": {},
     "output_type": "execute_result"
    }
   ],
   "source": [
    "len(data)"
   ]
  },
  {
   "cell_type": "code",
   "execution_count": 3,
   "metadata": {},
   "outputs": [],
   "source": [
    "from sqlalchemy import create_engine\n",
    "\n",
    "DB_USER=\"rec_user\"\n",
    "DB_PASSWORD=\"admin1234\"\n",
    "DB_HOST=\"localhost\"\n",
    "DB_NAME=\"recommendation_system\"\n",
    "DB_PORT=\"5432\"\n",
    "\n",
    "# Create the connection URL\n",
    "db_url = f'postgresql+psycopg2://{DB_USER}:{DB_PASSWORD}@{DB_HOST}:{DB_PORT}/{DB_NAME}'\n",
    "\n",
    "# Create the SQLAlchemy engine\n",
    "engine = create_engine(db_url)\n",
    "\n",
    "# Test the connection\n",
    "# try:\n",
    "#     with engine.connect() as connection:\n",
    "#         result = connection.execute(\"SELECT version();\")\n",
    "#         print(f\"Connected to: {result.fetchone()[0]}\")\n",
    "# except Exception as e:\n",
    "#     print(f\"An error occurred: {e}\")\n"
   ]
  },
  {
   "cell_type": "markdown",
   "metadata": {},
   "source": [
    "## Load movie data in movies table"
   ]
  },
  {
   "cell_type": "code",
   "execution_count": 28,
   "metadata": {},
   "outputs": [
    {
     "name": "stdout",
     "output_type": "stream",
     "text": [
      "movie_id         int64\n",
      "title           object\n",
      "genre           object\n",
      "director        object\n",
      "duration_min    object\n",
      "poster          object\n",
      "release_year     Int64\n",
      "dtype: object\n",
      "Data insertion completed successfully using COPY command.\n"
     ]
    }
   ],
   "source": [
    "import pandas as pd\n",
    "from sqlalchemy import create_engine\n",
    "import psycopg2\n",
    "from io import StringIO\n",
    "from datetime import datetime\n",
    "import os\n",
    "\n",
    "# Database credentials\n",
    "username=\"rec_user\"\n",
    "password=\"admin1234\"\n",
    "host=\"localhost\"\n",
    "database=\"recommendation_system\"\n",
    "port=\"5432\"\n",
    "\n",
    "\n",
    "\n",
    "# Map and process the DataFrame\n",
    "df_mapped = pd.DataFrame({\n",
    "    'movie_id': df['item_id'],\n",
    "    'title': df['title'],\n",
    "    'genre': df['starring'],\n",
    "    'director': df['directedBy'],\n",
    "    'duration_min': None,\n",
    "    'poster': None\n",
    "})\n",
    "\n",
    "# Extract 'release_year' from 'dateAdded'\n",
    "def extract_year(date_str):\n",
    "    if pd.isnull(date_str):\n",
    "        return pd.NA  # Use pandas' NA value for missing data\n",
    "    try:\n",
    "        return int(datetime.strptime(date_str[:10], '%Y-%m-%d').year)\n",
    "    except ValueError:\n",
    "        return pd.NA\n",
    "\n",
    "# Apply the function and convert to Int64\n",
    "df_mapped['release_year'] = df['dateAdded'].apply(extract_year).astype('Int64')\n",
    "\n",
    "# Verify data types\n",
    "print(df_mapped.dtypes)\n",
    "\n",
    "# Convert DataFrame to CSV buffer\n",
    "csv_buffer = StringIO()\n",
    "df_mapped.to_csv(csv_buffer, index=False, header=False, sep='\\t', na_rep='\\\\N')\n",
    "csv_buffer.seek(0)\n",
    "\n",
    "# Use psycopg2 to connect\n",
    "conn = psycopg2.connect(\n",
    "    dbname=database,\n",
    "    user=username,\n",
    "    password=password,\n",
    "    host=host,\n",
    "    port=port\n",
    ")\n",
    "cursor = conn.cursor()\n",
    "\n",
    "# Define the columns\n",
    "columns = ', '.join(df_mapped.columns)\n",
    "\n",
    "# Execute the COPY command\n",
    "copy_query = f\"COPY movies ({columns}) FROM STDIN WITH (FORMAT CSV, DELIMITER '\\t', NULL '\\\\N')\"\n",
    "cursor.copy_expert(sql=copy_query, file=csv_buffer)\n",
    "\n",
    "# Commit and close\n",
    "conn.commit()\n",
    "cursor.close()\n",
    "conn.close()\n",
    "\n",
    "print(\"Data insertion completed successfully using COPY command.\")"
   ]
  },
  {
   "cell_type": "markdown",
   "metadata": {},
   "source": [
    "## Query Movie table to see if the data has been loaded"
   ]
  },
  {
   "cell_type": "code",
   "execution_count": 8,
   "metadata": {},
   "outputs": [],
   "source": [
    "df = pd.read_sql_query(\"SELECT setval('movies_movie_id_seq', COALESCE((SELECT MAX(movie_id) + 1 FROM movies), 1), false);\", engine)"
   ]
  },
  {
   "cell_type": "code",
   "execution_count": 9,
   "metadata": {},
   "outputs": [
    {
     "data": {
      "text/html": [
       "<div>\n",
       "<style scoped>\n",
       "    .dataframe tbody tr th:only-of-type {\n",
       "        vertical-align: middle;\n",
       "    }\n",
       "\n",
       "    .dataframe tbody tr th {\n",
       "        vertical-align: top;\n",
       "    }\n",
       "\n",
       "    .dataframe thead th {\n",
       "        text-align: right;\n",
       "    }\n",
       "</style>\n",
       "<table border=\"1\" class=\"dataframe\">\n",
       "  <thead>\n",
       "    <tr style=\"text-align: right;\">\n",
       "      <th></th>\n",
       "      <th>setval</th>\n",
       "    </tr>\n",
       "  </thead>\n",
       "  <tbody>\n",
       "    <tr>\n",
       "      <th>0</th>\n",
       "      <td>239315</td>\n",
       "    </tr>\n",
       "  </tbody>\n",
       "</table>\n",
       "</div>"
      ],
      "text/plain": [
       "   setval\n",
       "0  239315"
      ]
     },
     "execution_count": 9,
     "metadata": {},
     "output_type": "execute_result"
    }
   ],
   "source": [
    "df.head()"
   ]
  },
  {
   "cell_type": "code",
   "execution_count": 23,
   "metadata": {},
   "outputs": [],
   "source": [
    "df = pd.read_sql_query(\"SELECT * FROM users;\", engine)"
   ]
  },
  {
   "cell_type": "code",
   "execution_count": 24,
   "metadata": {},
   "outputs": [
    {
     "data": {
      "text/html": [
       "<div>\n",
       "<style scoped>\n",
       "    .dataframe tbody tr th:only-of-type {\n",
       "        vertical-align: middle;\n",
       "    }\n",
       "\n",
       "    .dataframe tbody tr th {\n",
       "        vertical-align: top;\n",
       "    }\n",
       "\n",
       "    .dataframe thead th {\n",
       "        text-align: right;\n",
       "    }\n",
       "</style>\n",
       "<table border=\"1\" class=\"dataframe\">\n",
       "  <thead>\n",
       "    <tr style=\"text-align: right;\">\n",
       "      <th></th>\n",
       "      <th>user_id</th>\n",
       "      <th>user_name</th>\n",
       "      <th>email</th>\n",
       "      <th>password</th>\n",
       "      <th>role</th>\n",
       "      <th>created_at</th>\n",
       "      <th>updated_at</th>\n",
       "    </tr>\n",
       "  </thead>\n",
       "  <tbody>\n",
       "    <tr>\n",
       "      <th>0</th>\n",
       "      <td>1</td>\n",
       "      <td>nikstha</td>\n",
       "      <td>nikshres522@gmail.com</td>\n",
       "      <td>$2b$12$VMO9/sWadYPbhZbvwW5HFeqLqJIOGaZTXwQAl9N...</td>\n",
       "      <td>user</td>\n",
       "      <td>2024-10-20 15:43:38.339976-04:00</td>\n",
       "      <td>NaT</td>\n",
       "    </tr>\n",
       "    <tr>\n",
       "      <th>1</th>\n",
       "      <td>2</td>\n",
       "      <td>Nikita Shrestha</td>\n",
       "      <td>test@gmail.com</td>\n",
       "      <td>test123</td>\n",
       "      <td>user</td>\n",
       "      <td>2024-10-20 16:02:01.931910-04:00</td>\n",
       "      <td>NaT</td>\n",
       "    </tr>\n",
       "    <tr>\n",
       "      <th>2</th>\n",
       "      <td>3</td>\n",
       "      <td>rpralesh</td>\n",
       "      <td>pralesh@gmail.com</td>\n",
       "      <td>test123</td>\n",
       "      <td>rec_user</td>\n",
       "      <td>2024-10-20 16:02:01.931910-04:00</td>\n",
       "      <td>2024-10-20 20:02:01.931910+00:00</td>\n",
       "    </tr>\n",
       "    <tr>\n",
       "      <th>3</th>\n",
       "      <td>4</td>\n",
       "      <td>Pralesh Rayamajhi</td>\n",
       "      <td>pralesh1@gmail.com</td>\n",
       "      <td>$2b$12$hM4D81Pw5.8YbSXfI2qeTOsdBjWN8PlpGJGmOWv...</td>\n",
       "      <td>user</td>\n",
       "      <td>2024-10-31 10:28:27.988607-04:00</td>\n",
       "      <td>NaT</td>\n",
       "    </tr>\n",
       "    <tr>\n",
       "      <th>4</th>\n",
       "      <td>5</td>\n",
       "      <td>nikstha</td>\n",
       "      <td>nikshres52@gmail.com</td>\n",
       "      <td>$2b$12$xrQ602KlJ.4PoWK0Idi2C.8rwe8DYQQxzXbroKj...</td>\n",
       "      <td>user</td>\n",
       "      <td>2024-11-07 20:22:48.435697-05:00</td>\n",
       "      <td>NaT</td>\n",
       "    </tr>\n",
       "  </tbody>\n",
       "</table>\n",
       "</div>"
      ],
      "text/plain": [
       "   user_id          user_name                  email  \\\n",
       "0        1            nikstha  nikshres522@gmail.com   \n",
       "1        2    Nikita Shrestha         test@gmail.com   \n",
       "2        3           rpralesh      pralesh@gmail.com   \n",
       "3        4  Pralesh Rayamajhi     pralesh1@gmail.com   \n",
       "4        5            nikstha   nikshres52@gmail.com   \n",
       "\n",
       "                                            password      role  \\\n",
       "0  $2b$12$VMO9/sWadYPbhZbvwW5HFeqLqJIOGaZTXwQAl9N...      user   \n",
       "1                                            test123      user   \n",
       "2                                            test123  rec_user   \n",
       "3  $2b$12$hM4D81Pw5.8YbSXfI2qeTOsdBjWN8PlpGJGmOWv...      user   \n",
       "4  $2b$12$xrQ602KlJ.4PoWK0Idi2C.8rwe8DYQQxzXbroKj...      user   \n",
       "\n",
       "                         created_at                       updated_at  \n",
       "0  2024-10-20 15:43:38.339976-04:00                              NaT  \n",
       "1  2024-10-20 16:02:01.931910-04:00                              NaT  \n",
       "2  2024-10-20 16:02:01.931910-04:00 2024-10-20 20:02:01.931910+00:00  \n",
       "3  2024-10-31 10:28:27.988607-04:00                              NaT  \n",
       "4  2024-11-07 20:22:48.435697-05:00                              NaT  "
      ]
     },
     "execution_count": 24,
     "metadata": {},
     "output_type": "execute_result"
    }
   ],
   "source": [
    "df.head()"
   ]
  },
  {
   "cell_type": "code",
   "execution_count": 26,
   "metadata": {},
   "outputs": [
    {
     "data": {
      "text/html": [
       "<div>\n",
       "<style scoped>\n",
       "    .dataframe tbody tr th:only-of-type {\n",
       "        vertical-align: middle;\n",
       "    }\n",
       "\n",
       "    .dataframe tbody tr th {\n",
       "        vertical-align: top;\n",
       "    }\n",
       "\n",
       "    .dataframe thead th {\n",
       "        text-align: right;\n",
       "    }\n",
       "</style>\n",
       "<table border=\"1\" class=\"dataframe\">\n",
       "  <thead>\n",
       "    <tr style=\"text-align: right;\">\n",
       "      <th></th>\n",
       "      <th>id</th>\n",
       "      <th>user_id</th>\n",
       "      <th>movie_id</th>\n",
       "      <th>rating</th>\n",
       "      <th>created_at</th>\n",
       "      <th>updated_at</th>\n",
       "    </tr>\n",
       "  </thead>\n",
       "  <tbody>\n",
       "    <tr>\n",
       "      <th>0</th>\n",
       "      <td>2</td>\n",
       "      <td>6</td>\n",
       "      <td>1</td>\n",
       "      <td>5.0</td>\n",
       "      <td>2024-11-10 15:46:55.279250+00:00</td>\n",
       "      <td>None</td>\n",
       "    </tr>\n",
       "    <tr>\n",
       "      <th>1</th>\n",
       "      <td>3</td>\n",
       "      <td>6</td>\n",
       "      <td>6</td>\n",
       "      <td>3.0</td>\n",
       "      <td>2024-11-10 15:46:55.279250+00:00</td>\n",
       "      <td>None</td>\n",
       "    </tr>\n",
       "    <tr>\n",
       "      <th>2</th>\n",
       "      <td>4</td>\n",
       "      <td>6</td>\n",
       "      <td>10</td>\n",
       "      <td>3.0</td>\n",
       "      <td>2024-11-10 15:46:55.279250+00:00</td>\n",
       "      <td>None</td>\n",
       "    </tr>\n",
       "    <tr>\n",
       "      <th>3</th>\n",
       "      <td>5</td>\n",
       "      <td>6</td>\n",
       "      <td>16</td>\n",
       "      <td>3.0</td>\n",
       "      <td>2024-11-10 15:46:55.279250+00:00</td>\n",
       "      <td>None</td>\n",
       "    </tr>\n",
       "    <tr>\n",
       "      <th>4</th>\n",
       "      <td>6</td>\n",
       "      <td>6</td>\n",
       "      <td>17</td>\n",
       "      <td>3.0</td>\n",
       "      <td>2024-11-10 15:46:55.279250+00:00</td>\n",
       "      <td>None</td>\n",
       "    </tr>\n",
       "  </tbody>\n",
       "</table>\n",
       "</div>"
      ],
      "text/plain": [
       "   id  user_id  movie_id  rating                       created_at updated_at\n",
       "0   2        6         1     5.0 2024-11-10 15:46:55.279250+00:00       None\n",
       "1   3        6         6     3.0 2024-11-10 15:46:55.279250+00:00       None\n",
       "2   4        6        10     3.0 2024-11-10 15:46:55.279250+00:00       None\n",
       "3   5        6        16     3.0 2024-11-10 15:46:55.279250+00:00       None\n",
       "4   6        6        17     3.0 2024-11-10 15:46:55.279250+00:00       None"
      ]
     },
     "execution_count": 26,
     "metadata": {},
     "output_type": "execute_result"
    }
   ],
   "source": [
    "df = pd.read_sql_query(\"SELECT * FROM ratings;\", engine)\n",
    "df.head()"
   ]
  },
  {
   "cell_type": "markdown",
   "metadata": {},
   "source": [
    "# Load user data (Creating dummy users)"
   ]
  },
  {
   "cell_type": "code",
   "execution_count": 3,
   "metadata": {},
   "outputs": [],
   "source": [
    "import pandas as pd\n",
    "\n",
    "ratings = pd.read_json(\"/home/sanustha/Public/recommender-system/api/data/genome_2021/movie_dataset_public_final/raw/filtered_ratings.json\", lines=True)"
   ]
  },
  {
   "cell_type": "code",
   "execution_count": 12,
   "metadata": {},
   "outputs": [
    {
     "name": "stdout",
     "output_type": "stream",
     "text": [
      "Retrieved 8 existing users from the database.\n",
      "Failed to create user with ID 19. Status Code: 400, Message: {\"detail\":\"Email already registered\"}\n",
      "Failed to create user with ID 77. Status Code: 400, Message: {\"detail\":\"Email already registered\"}\n",
      "Failed to create user with ID 75. Status Code: 400, Message: {\"detail\":\"Email already registered\"}\n"
     ]
    }
   ],
   "source": [
    "import pandas as pd\n",
    "import requests\n",
    "\n",
    "# Step 1: Read the JSON File into a DataFrame\n",
    "df = pd.read_json(\"/home/sanustha/Public/recommender-system/api/data/genome_2021/movie_dataset_public_final/raw/filtered_ratings.json\", orient='records', lines=True)\n",
    "# Step 2: Extract Unique User IDs from the DataFrame\n",
    "user_ids = df['user_id'].unique()\n",
    "\n",
    "# Step 3: Define the API Endpoints and Headers\n",
    "API_SIGNUP_URL = 'http://localhost:8000/signup'  # Replace with your actual signup API endpoint\n",
    "API_USERS_URL = 'http://localhost:8000/users/'    # Endpoint to get all users\n",
    "HEADERS = {\n",
    "    'Content-Type': 'application/json',\n",
    "    # 'Authorization': 'Bearer YOUR_API_TOKEN',  # Uncomment and set if your API requires authentication\n",
    "}\n",
    "\n",
    "# Step 4: Retrieve Existing Users from the Database\n",
    "try:\n",
    "    # Send a GET request to retrieve all existing users\n",
    "    response = requests.get(API_USERS_URL, headers=HEADERS)\n",
    "    if response.status_code == 200:\n",
    "        existing_users = response.json()\n",
    "        # Extract existing user IDs into a set for fast lookup\n",
    "        existing_user_ids = {user['user_id'] for user in existing_users}\n",
    "        print(f\"Retrieved {len(existing_user_ids)} existing users from the database.\")\n",
    "    else:\n",
    "        print(f\"Failed to retrieve existing users. Status Code: {response.status_code}, Message: {response.text}\")\n",
    "        existing_user_ids = set()\n",
    "except requests.exceptions.RequestException as e:\n",
    "    print(f\"An error occurred while retrieving existing users: {e}\")\n",
    "    existing_user_ids = set()\n",
    "\n",
    "# Step 5: Iterate Over User IDs and Create Users If They Don't Exist\n",
    "for user_id in user_ids:\n",
    "    if int(user_id) in existing_user_ids:\n",
    "        print(f\"User with ID {user_id} already exists. Skipping.\")\n",
    "        continue  # Skip to the next user_id\n",
    "\n",
    "    # Prepare the payload with dummy data\n",
    "    payload = {\n",
    "        'user_name': f'User{user_id}',\n",
    "        'email': f'user{user_id}@example.com',\n",
    "        'password': 'dummy_password',  # In production, ensure secure password handling\n",
    "    }\n",
    "\n",
    "    try:\n",
    "        # Send a POST request to the signup API endpoint\n",
    "        response = requests.post(API_SIGNUP_URL, json=payload, headers=HEADERS)\n",
    "\n",
    "        if response.status_code == 200:\n",
    "            # User created successfully\n",
    "            print(f\"User with ID {user_id} created successfully.\")\n",
    "        elif response.status_code == 409:\n",
    "            # User already exists (assuming 409 Conflict for existing users)\n",
    "            print(f\"User with ID {user_id} already exists according to API. Skipping.\")\n",
    "        else:\n",
    "            # Handle other possible responses\n",
    "            print(f\"Failed to create user with ID {user_id}. Status Code: {response.status_code}, Message: {response.text}\")\n",
    "\n",
    "    except requests.exceptions.RequestException as e:\n",
    "        # Handle any request exceptions\n",
    "        print(f\"An error occurred while creating user with ID {user_id}: {e}\")\n"
   ]
  },
  {
   "cell_type": "code",
   "execution_count": 10,
   "metadata": {},
   "outputs": [
    {
     "name": "stdout",
     "output_type": "stream",
     "text": [
      "Retrieved 8 existing users from the database.\n"
     ]
    }
   ],
   "source": [
    "# Step 2: Extract Unique User IDs from the DataFrame\n",
    "user_ids = df['user_id'].unique()\n",
    "\n",
    "# Step 3: Define the API Endpoints and Headers\n",
    "API_SIGNUP_URL = 'http://localhost:8000/signup'  # Replace with your actual signup API endpoint\n",
    "API_USERS_URL = 'http://localhost:8000/users/'    # Endpoint to get all users\n",
    "HEADERS = {\n",
    "    'Content-Type': 'application/json',\n",
    "    # 'Authorization': 'Bearer YOUR_API_TOKEN',  # Uncomment and set if your API requires authentication\n",
    "}\n",
    "\n",
    "# Step 4: Retrieve Existing Users from the Database\n",
    "try:\n",
    "    # Send a GET request to retrieve all existing users\n",
    "    response = requests.get(API_USERS_URL, headers=HEADERS)\n",
    "    if response.status_code == 200:\n",
    "        existing_users = response.json()\n",
    "        # Extract existing user IDs into a set for fast lookup\n",
    "        existing_user_ids = {user['user_id'] for user in existing_users}\n",
    "        print(f\"Retrieved {len(existing_user_ids)} existing users from the database.\")\n",
    "    else:\n",
    "        print(f\"Failed to retrieve existing users. Status Code: {response.status_code}, Message: {response.text}\")\n",
    "        existing_user_ids = set()\n",
    "except requests.exceptions.RequestException as e:\n",
    "    print(f\"An error occurred while retrieving existing users: {e}\")\n",
    "    existing_user_ids = set()"
   ]
  },
  {
   "cell_type": "code",
   "execution_count": 14,
   "metadata": {},
   "outputs": [
    {
     "data": {
      "text/plain": [
       "[{'user_id': 1,\n",
       "  'user_name': 'nikstha',\n",
       "  'email': 'nikshres522@gmail.com',\n",
       "  'role': 'user',\n",
       "  'created_at': '2024-10-20T15:43:38.339976-04:00',\n",
       "  'updated_at': None},\n",
       " {'user_id': 2,\n",
       "  'user_name': 'Nikita Shrestha',\n",
       "  'email': 'test@gmail.com',\n",
       "  'role': 'user',\n",
       "  'created_at': '2024-10-20T16:02:01.931910-04:00',\n",
       "  'updated_at': None},\n",
       " {'user_id': 3,\n",
       "  'user_name': 'rpralesh',\n",
       "  'email': 'pralesh@gmail.com',\n",
       "  'role': 'rec_user',\n",
       "  'created_at': '2024-10-20T16:02:01.931910-04:00',\n",
       "  'updated_at': '2024-10-20T16:02:01.931910-04:00'},\n",
       " {'user_id': 4,\n",
       "  'user_name': 'Pralesh Rayamajhi',\n",
       "  'email': 'pralesh1@gmail.com',\n",
       "  'role': 'user',\n",
       "  'created_at': '2024-10-31T10:28:27.988607-04:00',\n",
       "  'updated_at': None},\n",
       " {'user_id': 5,\n",
       "  'user_name': 'nikstha',\n",
       "  'email': 'nikshres52@gmail.com',\n",
       "  'role': 'user',\n",
       "  'created_at': '2024-11-07T20:22:48.435697-05:00',\n",
       "  'updated_at': None},\n",
       " {'user_id': 6,\n",
       "  'user_name': 'User19',\n",
       "  'email': 'user19@example.com',\n",
       "  'role': 'user',\n",
       "  'created_at': '2024-11-10T10:28:27.413864-05:00',\n",
       "  'updated_at': None},\n",
       " {'user_id': 7,\n",
       "  'user_name': 'User77',\n",
       "  'email': 'user77@example.com',\n",
       "  'role': 'user',\n",
       "  'created_at': '2024-11-10T10:28:28.048989-05:00',\n",
       "  'updated_at': None},\n",
       " {'user_id': 8,\n",
       "  'user_name': 'User75',\n",
       "  'email': 'user75@example.com',\n",
       "  'role': 'user',\n",
       "  'created_at': '2024-11-10T10:28:28.591706-05:00',\n",
       "  'updated_at': None}]"
      ]
     },
     "execution_count": 14,
     "metadata": {},
     "output_type": "execute_result"
    }
   ],
   "source": [
    "existing_users"
   ]
  },
  {
   "cell_type": "code",
   "execution_count": 19,
   "metadata": {},
   "outputs": [
    {
     "name": "stdout",
     "output_type": "stream",
     "text": [
      "Data inserted successfully.\n"
     ]
    }
   ],
   "source": [
    "import pandas as pd\n",
    "import psycopg2\n",
    "\n",
    "# Database credentials\n",
    "username=\"rec_user\"\n",
    "password=\"admin1234\"\n",
    "host=\"localhost\"\n",
    "database=\"recommendation_system\"\n",
    "port=\"5432\"\n",
    "\n",
    "\n",
    "# Use psycopg2 to connect\n",
    "conn = psycopg2.connect(\n",
    "    dbname=database,\n",
    "    user=username,\n",
    "    password=password,\n",
    "    host=host,\n",
    "    port=port\n",
    ")\n",
    "cur = conn.cursor()\n",
    "\n",
    "# Define the mapping dictionary\n",
    "user_id_mapping = {\n",
    "    19: 6,\n",
    "    77: 7,\n",
    "    75: 8\n",
    "}\n",
    "\n",
    "# Step 3: Filter the DataFrame to include only the user_ids in the mapping (optional)\n",
    "mapped_df = df[df['user_id'].isin(user_id_mapping.keys())].copy()\n",
    "\n",
    "# Step 4: Apply the mapping to the 'user_id' column\n",
    "mapped_df['user_id'] = mapped_df['user_id'].map(user_id_mapping)\n",
    "\n",
    "\n",
    "# Step 3: Insert Data into 'ratings' Table\n",
    "try:\n",
    "    # Prepare the SQL INSERT statement\n",
    "    insert_query = \"\"\"\n",
    "    INSERT INTO ratings (movie_id, user_id, rating)\n",
    "    VALUES (%s, %s, %s)\n",
    "    \"\"\"\n",
    "\n",
    "    # Convert DataFrame to a list of tuples\n",
    "    data_to_insert = list(mapped_df.itertuples(index=False, name=None))\n",
    "\n",
    "    # Execute the batch insertion\n",
    "    cur.executemany(insert_query, data_to_insert)\n",
    "\n",
    "    # Commit the transaction\n",
    "    conn.commit()\n",
    "    print(\"Data inserted successfully.\")\n",
    "\n",
    "except Exception as e:\n",
    "    print(f\"An error occurred: {e}\")\n",
    "    conn.rollback()\n",
    "finally:\n",
    "    # Close the cursor and connection\n",
    "    cur.close()\n",
    "    conn.close()\n"
   ]
  },
  {
   "cell_type": "code",
   "execution_count": 17,
   "metadata": {},
   "outputs": [
    {
     "data": {
      "text/html": [
       "<div>\n",
       "<style scoped>\n",
       "    .dataframe tbody tr th:only-of-type {\n",
       "        vertical-align: middle;\n",
       "    }\n",
       "\n",
       "    .dataframe tbody tr th {\n",
       "        vertical-align: top;\n",
       "    }\n",
       "\n",
       "    .dataframe thead th {\n",
       "        text-align: right;\n",
       "    }\n",
       "</style>\n",
       "<table border=\"1\" class=\"dataframe\">\n",
       "  <thead>\n",
       "    <tr style=\"text-align: right;\">\n",
       "      <th></th>\n",
       "      <th>item_id</th>\n",
       "      <th>user_id</th>\n",
       "      <th>rating</th>\n",
       "    </tr>\n",
       "  </thead>\n",
       "  <tbody>\n",
       "    <tr>\n",
       "      <th>0</th>\n",
       "      <td>1</td>\n",
       "      <td>19</td>\n",
       "      <td>5</td>\n",
       "    </tr>\n",
       "    <tr>\n",
       "      <th>1</th>\n",
       "      <td>6</td>\n",
       "      <td>19</td>\n",
       "      <td>3</td>\n",
       "    </tr>\n",
       "    <tr>\n",
       "      <th>2</th>\n",
       "      <td>10</td>\n",
       "      <td>19</td>\n",
       "      <td>3</td>\n",
       "    </tr>\n",
       "    <tr>\n",
       "      <th>3</th>\n",
       "      <td>16</td>\n",
       "      <td>19</td>\n",
       "      <td>3</td>\n",
       "    </tr>\n",
       "    <tr>\n",
       "      <th>4</th>\n",
       "      <td>17</td>\n",
       "      <td>19</td>\n",
       "      <td>3</td>\n",
       "    </tr>\n",
       "  </tbody>\n",
       "</table>\n",
       "</div>"
      ],
      "text/plain": [
       "   item_id  user_id  rating\n",
       "0        1       19       5\n",
       "1        6       19       3\n",
       "2       10       19       3\n",
       "3       16       19       3\n",
       "4       17       19       3"
      ]
     },
     "execution_count": 17,
     "metadata": {},
     "output_type": "execute_result"
    }
   ],
   "source": [
    "df.head()"
   ]
  }
 ],
 "metadata": {
  "kernelspec": {
   "display_name": "venv",
   "language": "python",
   "name": "python3"
  },
  "language_info": {
   "codemirror_mode": {
    "name": "ipython",
    "version": 3
   },
   "file_extension": ".py",
   "mimetype": "text/x-python",
   "name": "python",
   "nbconvert_exporter": "python",
   "pygments_lexer": "ipython3",
   "version": "3.10.12"
  }
 },
 "nbformat": 4,
 "nbformat_minor": 2
}
